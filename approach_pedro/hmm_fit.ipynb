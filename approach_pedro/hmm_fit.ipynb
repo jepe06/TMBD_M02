{
 "cells": [
  {
   "cell_type": "code",
   "execution_count": null,
   "metadata": {},
   "outputs": [],
   "source": [
    "from collections import Counter\n",
    "import pandas as pd\n",
    "import numpy as np\n",
    "import matplotlib.pyplot as plt\n",
    "import plotly.graph_objects as go\n",
    "from hmmlearn import hmm\n",
    "from itertools import product\n",
    "from sklearn.model_selection import train_test_split\n",
    "from sklearn.metrics import accuracy_score, confusion_matrix, f1_score"
   ]
  },
  {
   "cell_type": "code",
   "execution_count": null,
   "metadata": {},
   "outputs": [],
   "source": [
    "df = pd.read_csv('../data/metro_interstate_traffic_volume_processed.csv')\n",
    "\n",
    "X = df.drop(columns=['traffic_volume', 'traffic_volume_category'])\n",
    "y = df['traffic_volume_category']\n",
    "\n",
    "X_train, X_test, y_train, y_test = train_test_split(X, y, test_size=0.2, shuffle=False)"
   ]
  },
  {
   "cell_type": "code",
   "execution_count": null,
   "metadata": {},
   "outputs": [],
   "source": [
    "day_of_week_categories = ['weekday', 'weekend']\n",
    "time_of_day_categories = df['time_of_day'].unique()\n",
    "weather_categories = df['weather'].unique()\n",
    "temp_categories = df['temp'].unique()\n",
    "traffic_categories = df['traffic_volume_category'].unique()\n",
    "\n",
    "observations = list(product(time_of_day_categories, weather_categories))\n",
    "observations_map = {\n",
    "    '_'.join(obs): i for i, obs in enumerate(observations)\n",
    "}\n",
    "\n",
    "state_map = {\n",
    "    state: i for i, state in enumerate(traffic_categories)\n",
    "}"
   ]
  },
  {
   "cell_type": "code",
   "execution_count": null,
   "metadata": {},
   "outputs": [],
   "source": [
    "def get_observation_index(row):\n",
    "    obs = f\"{row['time_of_day']}_{row['weather']}\"\n",
    "    return observations_map[obs]\n",
    "\n",
    "def get_sequence(data):\n",
    "    return data[['weekend', 'time_of_day', 'weather', 'temp']].apply(get_observation_index, axis=1).values.reshape(-1, 1)"
   ]
  },
  {
   "cell_type": "code",
   "execution_count": null,
   "metadata": {},
   "outputs": [],
   "source": [
    "model = hmm.CategoricalHMM(n_components=len(traffic_categories), n_iter=100, random_state=42)\n",
    "model.n_features = len(observations)\n",
    "\n",
    "train_sequence = get_sequence(X_train)\n",
    "model.fit(train_sequence)"
   ]
  },
  {
   "cell_type": "code",
   "execution_count": null,
   "metadata": {},
   "outputs": [],
   "source": [
    "print(\"Transition matrix:\")\n",
    "for row in model.transmat_:\n",
    "    for prob in row:\n",
    "        print(f\"{prob:.2f}\", end=' ')\n",
    "    print()\n",
    "\n",
    "print(\"\\nEmission matrix:\")\n",
    "for row in model.emissionprob_:\n",
    "    for prob in row:\n",
    "        print(f\"{prob:.2f}\", end=' ')\n",
    "    print()"
   ]
  },
  {
   "cell_type": "code",
   "execution_count": null,
   "metadata": {},
   "outputs": [],
   "source": [
    "test_sequence = get_sequence(X_test)\n",
    "predicted = model.predict(test_sequence)\n",
    "trues = y_test.apply(lambda x: state_map[x]).values\n",
    "\n",
    "hmm_map = {\n",
    "    1: 3,\n",
    "    2: 2,\n",
    "    3: 0,\n",
    "    0: 1\n",
    "}\n",
    "\n",
    "predicted = [hmm_map[p] for p in predicted]"
   ]
  },
  {
   "cell_type": "code",
   "execution_count": null,
   "metadata": {},
   "outputs": [],
   "source": [
    "fig = go.Figure()\n",
    "fig.add_trace(go.Scatter(y=trues, mode='lines', name='True'))\n",
    "fig.add_trace(go.Scatter(y=predicted, mode='lines', name='Predicted'))\n",
    "\n",
    "fig.update_layout(\n",
    "    title=\"Predicted vs True Values\",\n",
    "    xaxis_title=\"Index\",\n",
    "    yaxis_title=\"Value\",\n",
    "    legend=dict(x=0.02, y=0.98)\n",
    ")\n",
    "fig.show()\n"
   ]
  },
  {
   "cell_type": "code",
   "execution_count": null,
   "metadata": {},
   "outputs": [],
   "source": [
    "accuracy = accuracy_score(trues, predicted)\n",
    "f1 = f1_score(trues, predicted, average='weighted')\n",
    "print(f\"Accuracy: {accuracy:.2f}\")\n",
    "print(f\"F1: {f1:.2f}\")\n",
    "\n",
    "cm = confusion_matrix(trues, predicted)\n",
    "plt.matshow(cm)\n",
    "print(cm)"
   ]
  }
 ],
 "metadata": {
  "kernelspec": {
   "display_name": "main",
   "language": "python",
   "name": "python3"
  },
  "language_info": {
   "codemirror_mode": {
    "name": "ipython",
    "version": 3
   },
   "file_extension": ".py",
   "mimetype": "text/x-python",
   "name": "python",
   "nbconvert_exporter": "python",
   "pygments_lexer": "ipython3",
   "version": "3.12.2"
  }
 },
 "nbformat": 4,
 "nbformat_minor": 2
}
