{
 "cells": [
  {
   "cell_type": "code",
   "execution_count": 1,
   "metadata": {},
   "outputs": [],
   "source": [
    "import datetime\n",
    "import pandas as pd\n",
    "import numpy as np\n",
    "import matplotlib.pyplot as plt\n",
    "import seaborn as sns"
   ]
  },
  {
   "cell_type": "code",
   "execution_count": 2,
   "metadata": {},
   "outputs": [
    {
     "name": "stdout",
     "output_type": "stream",
     "text": [
      "holiday\n",
      "temp\n",
      "rain_1h\n",
      "snow_1h\n",
      "clouds_all\n",
      "weather_main\n",
      "weather_description\n",
      "date_time\n",
      "traffic_volume\n"
     ]
    }
   ],
   "source": [
    "df = pd.read_csv('../METRO Interstate/Metro_Interstate_Traffic_Volume.csv')\n",
    "\n",
    "for c in df.columns:\n",
    "    print(c)"
   ]
  },
  {
   "cell_type": "code",
   "execution_count": 3,
   "metadata": {},
   "outputs": [],
   "source": [
    "def kelvin_to_celsius(k):\n",
    "    return round(k - 273.15)\n",
    "\n",
    "df['temp'] = df['temp'].apply(kelvin_to_celsius)\n",
    "df = df[df['temp'] > -50] # remove outliers\n"
   ]
  },
  {
   "cell_type": "code",
   "execution_count": 4,
   "metadata": {},
   "outputs": [],
   "source": [
    "time_of_day = {\n",
    "    \"night\": range(0, 6),\n",
    "    \"morning\": range(6, 12),\n",
    "    \"afternoon\": range(12, 18),\n",
    "    \"evening\": range(18, 24)\n",
    "}\n",
    "\n",
    "temperture = {\n",
    "    \"cold\": range(-30, 0),\n",
    "    \"cool\": range(0, 10),\n",
    "    \"mild\": range(10, 20),\n",
    "    \"warm\": range(20, 30),\n",
    "    \"hot\": range(30, 50)\n",
    "}\n",
    "\n",
    "other_weather = ['Drizzle', 'Haze', 'Fog', 'Thunderstorm', 'Snow', 'Squall', 'Smoke']\n",
    "\n",
    "def get_time_of_day(x):\n",
    "    hour = int(x.split(' ')[1].split(':')[0])\n",
    "    for time_category, time_range in time_of_day.items():\n",
    "        if hour in time_range:\n",
    "            return time_category\n",
    "        \n",
    "def is_weekend(x):\n",
    "    date = x.split(' ')[0]\n",
    "    year, month, day = date.split('-')\n",
    "    weekday = datetime.datetime(int(year), int(month), int(day)).weekday()\n",
    "    return 1 if weekday >= 5 else 0\n",
    "\n",
    "def get_temp_category(x):\n",
    "    for temp_category, temp_range in temperture.items():\n",
    "        if x in temp_range:\n",
    "            return temp_category\n",
    "\n",
    "def convert_weather(x):\n",
    "    return 'other' if x in other_weather else x.lower()"
   ]
  },
  {
   "cell_type": "code",
   "execution_count": 5,
   "metadata": {},
   "outputs": [],
   "source": [
    "df['temp'] = df['temp'].apply(get_temp_category)\n",
    "df['time_of_day'] = df['date_time'].apply(get_time_of_day)\n",
    "df['weekend'] = df['date_time'].apply(is_weekend)\n",
    "df['weather'] = df['weather_main'].apply(convert_weather)\n",
    "\n",
    "df = df.drop(columns=['date_time', 'holiday', 'rain_1h', 'snow_1h', 'clouds_all', 'weather_main', 'weather_description', 'date_time'])\n",
    "order = ['temp', 'time_of_day', 'weather', 'weekend', 'traffic_volume']\n",
    "df = df[order]"
   ]
  },
  {
   "cell_type": "code",
   "execution_count": 6,
   "metadata": {},
   "outputs": [
    {
     "data": {
      "image/png": "[encoded data removed]",
      "text/plain": [
       "<Figure size 1000x600 with 1 Axes>"
      ]
     },
     "metadata": {},
     "output_type": "display_data"
    }
   ],
   "source": [
    "plt.figure(figsize=(10, 6))\n",
    "plt.boxplot(df['traffic_volume'])\n",
    "plt.show()\n",
    "\n",
    "q1 = df['traffic_volume'].quantile(0.25).astype(int)\n",
    "q2 = df['traffic_volume'].quantile(0.5).astype(int)\n",
    "q3 = df['traffic_volume'].quantile(0.75).astype(int)\n",
    "\n",
    "min_traffic = df['traffic_volume'].min()\n",
    "max_traffic = df['traffic_volume'].max()\n",
    "\n",
    "traffic_categories = {\n",
    "    'low_volume': (min_traffic, q1),\n",
    "    'medium_volume': (q1, q2),\n",
    "    'high_volume': (q2, q3),\n",
    "    'very_high_volume': (q3, max_traffic + 1)\n",
    "}\n",
    "\n",
    "def categorize_traffic_volume(volume):\n",
    "    volume = int(volume)\n",
    "    for category, (lower, upper) in traffic_categories.items():\n",
    "        if lower <= volume < upper:\n",
    "            return category\n",
    "        \n",
    "df['traffic_volume_category'] = df['traffic_volume'].apply(categorize_traffic_volume)"
   ]
  },
  {
   "cell_type": "code",
   "execution_count": 7,
   "metadata": {},
   "outputs": [],
   "source": [
    "df.to_csv('../data/metro_interstate_traffic_volume_processed.csv', index=False)"
   ]
  }
 ],
 "metadata": {
  "kernelspec": {
   "display_name": "main",
   "language": "python",
   "name": "python3"
  },
  "language_info": {
   "codemirror_mode": {
    "name": "ipython",
    "version": 3
   },
   "file_extension": ".py",
   "mimetype": "text/x-python",
   "name": "python",
   "nbconvert_exporter": "python",
   "pygments_lexer": "ipython3",
   "version": "3.12.2"
  }
 },
 "nbformat": 4,
 "nbformat_minor": 2
}
