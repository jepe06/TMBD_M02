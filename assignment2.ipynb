{
 "cells": [
  {
   "cell_type": "markdown",
   "id": "375aacc5",
   "metadata": {},
   "source": [
    "<br>\n",
    "\n",
    "# Técnicas Matemáticas para Big Data - Hidden Markov Models\n",
    "<br><br>\n"
   ]
  },
  {
   "cell_type": "markdown",
   "id": "8b47c68c",
   "metadata": {},
   "source": [
    "GROUP 9:\n",
    "- Inês Matos - Nº 124349 - ??% Work Participation\n",
    "- João Cardoso - Nº 50750 - ??% Work Participation\n",
    "- Pedro Rodrigues - Nº 102778 - ??% Work Participation"
   ]
  },
  {
   "cell_type": "markdown",
   "id": "c66fb045",
   "metadata": {},
   "source": [
    "<br><br>\n",
    "\n",
    "## 1. Introduction to the problem of study [1,0 valor]"
   ]
  },
  {
   "cell_type": "markdown",
   "id": "41af2342",
   "metadata": {},
   "source": [
    "<br><br>\n",
    "## 2. Brief and general description of the approach and methods used [1,5 valor]"
   ]
  },
  {
   "cell_type": "markdown",
   "id": "0b9b00f1",
   "metadata": {},
   "source": [
    "In order to develop an end-to-end system based on Hidden Markov Models capable of modeling the traffic volume in the interstate 94 highway, we followed a structured approach that included the following steps:\n",
    "\n",
    "1. **Data analysis and preprocessing**: We started by analyzing the dataset and preprocessing it in order to make it suitable for the development of the Hidden Markov Model. As it will be detailed in section 6, the chosen dataset contains both numerical and categorical features. To facilitate the application of the Hidden Markov Model, we decided to encode the numerical features to different categories. Examples of these features are the temperature, the hour of the day, and the traffic volume itself. We also discarded some features that we considered irrelevant as they would not contribute to the model's performance.\n",
    "\n",
    "2. **Generate the set of possible observations**: As the dataset used is multivariate, which means that it contains multiple features (e.g. temperature, weather, etc.), and since the `hmmlearn` library only accepts a single type of observation (e.g. weather: sunny, rainy, cloudy), we had to generate a set of possible observations. In other words, we had to encode the dataset in such a way that each observation is represented by a single feature.\n",
    "\n",
    "3. **Map observations and hidden states to integers**: In order to facilitate the implementation of the Hidden Markov Model, we mapped the observations and hidden states to integers. This way, we could use the ```hmmlearn``` library to build the model.\n",
    "\n",
    "4. **Get the transition matrix and the emission matrix**: As the dataset already contains the traffic volume, we used a subsection of it to calculate the transition matrix and the emission matrix. The transition matrix represents the probability of transitioning from one state to another, while the emission matrix represents the probability of observing a certain feature given a state.\n",
    "\n",
    "5. **Setup the Hidden Markov Model**: Finally, we created the Hidden Markov Model using the `CategoricalHMM` class from the `hmmlearn` library. We then assigned the transition matrix and the emission matrix to the model.\n",
    "\n",
    "6. **Model evaluation**: We developed two different scenarios to evaluate the model's performance."
   ]
  },
  {
   "cell_type": "markdown",
   "id": "0e324615",
   "metadata": {},
   "source": [
    "<br><br>\n",
    "## 3. Brief History and literature review of the problem and methods/algorithms [1,5 valor]"
   ]
  },
  {
   "cell_type": "markdown",
   "id": "4889a980",
   "metadata": {},
   "source": [
    "<br><br>\n",
    "## 4. About the main method/algorithm used [1,5 valor]"
   ]
  },
  {
   "cell_type": "markdown",
   "id": "52795c65",
   "metadata": {},
   "source": [
    "<br><br>\n",
    "\n",
    "## 5. Python imports and global configurations [0,5 valor]"
   ]
  },
  {
   "cell_type": "code",
   "execution_count": 1,
   "id": "b5177dbe",
   "metadata": {},
   "outputs": [],
   "source": [
    "from datetime import datetime\n",
    "from collections import Counter\n",
    "import pandas as pd\n",
    "import numpy as np\n",
    "import matplotlib.pyplot as plt\n",
    "import seaborn as sns\n",
    "import plotly.graph_objects as go\n",
    "from hmmlearn import hmm\n",
    "from itertools import product\n",
    "from sklearn.model_selection import train_test_split\n",
    "from sklearn.metrics import accuracy_score, confusion_matrix, f1_score"
   ]
  },
  {
   "cell_type": "markdown",
   "id": "bb739aae",
   "metadata": {},
   "source": [
    "<br><br>\n",
    "\n",
    "## 6. Dataset and variables explanation [1,5 valor]"
   ]
  },
  {
   "cell_type": "markdown",
   "id": "45f3cec6",
   "metadata": {},
   "source": [
    "The dataset used for this assignment was the \"Metro Interstate Traffic Volume\" dataset [CITATION_HERE](), available on the UCI Machine Learning Repository. This dataset contains hourly traffic volume data for the Interstate 94 highway in Minneapolis-St Paul, MN, USA. The dataset records traffic volume from 2012-10-02 to 2018-09-30.\n",
    "\n",
    "This dataset is a multivariate time series dataset, containing 48204 instances and 9 different features. The features and their descriptions are as follows:\n",
    "\n",
    "| Name                | Description                                       | Type         | Units  |\n",
    "|---------------------|---------------------------------------------------|--------------|--------|\n",
    "| holiday             | US National holidays plus regional holiday, Minnesota State Fair | Categorical  |   -     |\n",
    "| temp                | Average temp in kelvin                            | Continuous   | Kelvin |\n",
    "| rain_1h             | Amount in mm of rain that occurred in the hour    | Continuous   | mm     |\n",
    "| snow_1h             | Amount in mm of snow that occurred in the hour    | Continuous   | mm     |\n",
    "| clouds_all          | Percentage of cloud cover                         | Integer      | %      |\n",
    "| weather_main        | Short textual description of the current weather  | Categorical  |   -     |\n",
    "| weather_description | Longer textual description of the current weather | Categorical  |   -     |\n",
    "| date_time           | Hour of the data collected in local CST time      | Date         |   -     |\n",
    "| traffic_volume (target)     | Hourly I-94 ATR 301 reported westbound traffic volume | Integer      |   -     |\n",
    "\n",
    "As mentioned in section 2, in order to use different types of observations in the Hidden Markov Model, we need to create a set of possible observations. This implies that we create all possible combinations of the features in the dataset. In order to reduce the number of possible observations, we only considered the following features: `date-time`, `temperature`, and `weather_main`.\n",
    "\n",
    "The preprocessing  is presented below."
   ]
  },
  {
   "cell_type": "markdown",
   "id": "a2dd45c3",
   "metadata": {},
   "source": [
    "### Data preprocessing"
   ]
  },
  {
   "cell_type": "code",
   "execution_count": 2,
   "id": "131f5e25",
   "metadata": {},
   "outputs": [],
   "source": [
    "df = pd.read_csv('METRO Interstate/Metro_Interstate_Traffic_Volume.csv')"
   ]
  },
  {
   "cell_type": "markdown",
   "id": "09827f1b",
   "metadata": {},
   "source": [
    "- Instead of using the date-time feature as is, we decided to extract the hour of the day from it and then categorize it into 4 different categories: `morning`, `afternoon`, `evening`, and `night`. \n",
    "\n",
    "- The temperature feature was also categorized into 5 different categories: `cold`, `cool`, `mild`, `warm`, and `hot`.\n",
    "\n",
    "- Although the weather_main feature is already categorical, as it can be seen in the plot below, several categories have very few samples. Therefore, we decided to group the categories `Drizzle`, `Haze`, `Thunderstorm`, `Fog`, `Smoke`, and `Squall` into a single category called `other`. Doing this, we reduce the number of possible observations.\n",
    "\n",
    "- As the traffic volume highly depends if it is weekday or weekend, we decided to create a new feature called `weekend` that indicates if the day is a weekend or not."
   ]
  },
  {
   "cell_type": "code",
   "execution_count": 3,
   "id": "1b1394e8",
   "metadata": {},
   "outputs": [
    {
     "data": {
      "image/png": "[encoded data removed]",
      "text/plain": [
       "<Figure size 640x480 with 1 Axes>"
      ]
     },
     "metadata": {},
     "output_type": "display_data"
    }
   ],
   "source": [
    "df['weather_main'].value_counts().plot(kind='bar')\n",
    "plt.xlabel('Weather')\n",
    "plt.ylabel('Count')\n",
    "plt.title('Weather Distribution')\n",
    "plt.show()"
   ]
  },
  {
   "cell_type": "code",
   "execution_count": 4,
   "id": "4284b1aa",
   "metadata": {},
   "outputs": [],
   "source": [
    "time_of_day = {\n",
    "    \"night\": range(0, 6),\n",
    "    \"morning\": range(6, 12),\n",
    "    \"afternoon\": range(12, 18),\n",
    "    \"evening\": range(18, 24)\n",
    "}\n",
    "\n",
    "temperture = {\n",
    "    \"cold\": range(-30, 0),\n",
    "    \"cool\": range(0, 10),\n",
    "    \"mild\": range(10, 20),\n",
    "    \"warm\": range(20, 30),\n",
    "    \"hot\": range(30, 50)\n",
    "}\n",
    "\n",
    "other_weather = ['Drizzle', 'Haze', 'Fog', 'Thunderstorm', 'Squall', 'Smoke']"
   ]
  },
  {
   "cell_type": "code",
   "execution_count": 5,
   "id": "77877afa",
   "metadata": {},
   "outputs": [],
   "source": [
    "def kelvin_to_celsius(k):\n",
    "    return round(k - 273.15)\n",
    "\n",
    "def get_time_of_day(x):\n",
    "    hour = int(x.split(' ')[1].split(':')[0])\n",
    "    for time_category, time_range in time_of_day.items():\n",
    "        if hour in time_range:\n",
    "            return time_category\n",
    "        \n",
    "def is_weekend(x):\n",
    "    date = x.split(' ')[0]\n",
    "    year, month, day = date.split('-')\n",
    "    weekday = datetime(int(year), int(month), int(day)).weekday()\n",
    "    return 1 if weekday >= 5 else 0\n",
    "\n",
    "def get_temp_category(x):\n",
    "    for temp_category, temp_range in temperture.items():\n",
    "        if x in temp_range:\n",
    "            return temp_category\n",
    "\n",
    "def convert_weather(x):\n",
    "    return 'other' if x in other_weather else x.lower()"
   ]
  },
  {
   "cell_type": "code",
   "execution_count": 6,
   "id": "615429a7",
   "metadata": {},
   "outputs": [],
   "source": [
    "df['temp'] = df['temp'].apply(kelvin_to_celsius)\n",
    "df = df[df['temp'] > -50] # remove outliers\n",
    "\n",
    "df['temp'] = df['temp'].apply(get_temp_category)\n",
    "df['time_of_day'] = df['date_time'].apply(get_time_of_day)\n",
    "df['weekend'] = df['date_time'].apply(is_weekend)\n",
    "df['weather'] = df['weather_main'].apply(convert_weather)\n",
    "\n",
    "df = df.drop(columns=['date_time', 'holiday', 'rain_1h', 'snow_1h', 'clouds_all', 'weather_main', 'weather_description'])\n",
    "order = ['temp', 'time_of_day', 'weather', 'weekend', 'traffic_volume']\n",
    "df = df[order]"
   ]
  },
  {
   "cell_type": "markdown",
   "id": "300f4569",
   "metadata": {},
   "source": [
    "### Categorize the traffic volume"
   ]
  },
  {
   "cell_type": "markdown",
   "id": "6b64801e",
   "metadata": {},
   "source": [
    "In order to categorize the traffic volume, we took in consideration the quartiles of the traffic volume. \n",
    "\n",
    "The traffic volume was categorized into 4 different categories: `low`, `medium`, `high`, and `very high`:\n",
    "- `low`: traffic volume < 1193\n",
    "- `medium`: 1193 <= traffic volume < 3380\n",
    "- `high`: 3380 <= traffic volume < 4933\n",
    "- `very high`: traffic volume >= 4933\n"
   ]
  },
  {
   "cell_type": "code",
   "execution_count": 7,
   "id": "a0c84a50",
   "metadata": {},
   "outputs": [
    {
     "name": "stdout",
     "output_type": "stream",
     "text": [
      "1194 3380 4933\n"
     ]
    }
   ],
   "source": [
    "q1 = df['traffic_volume'].quantile(0.25).astype(int)\n",
    "q2 = df['traffic_volume'].quantile(0.5).astype(int)\n",
    "q3 = df['traffic_volume'].quantile(0.75).astype(int)\n",
    "print(q1, q2, q3)"
   ]
  },
  {
   "cell_type": "code",
   "execution_count": 8,
   "id": "430c4927",
   "metadata": {},
   "outputs": [
    {
     "data": {
      "image/png": "[encoded data removed]",
      "text/plain": [
       "<Figure size 1200x500 with 2 Axes>"
      ]
     },
     "metadata": {},
     "output_type": "display_data"
    }
   ],
   "source": [
    "fig, axes = plt.subplots(1, 2, figsize=(12, 5))\n",
    "\n",
    "# Boxplot\n",
    "sns.boxplot(x='traffic_volume', data=df, ax=axes[0])\n",
    "axes[0].set_title('Boxplot of Traffic Volume')\n",
    "\n",
    "# Histogram\n",
    "sns.histplot(df['traffic_volume'], bins=50, ax=axes[1], kde=True)\n",
    "axes[1].set_title('Histogram of Traffic Volume')\n",
    "\n",
    "# Quartiles\n",
    "for q in [q1, q2, q3]:\n",
    "    plt.axvline(q, color='r', linestyle='--')\n",
    "\n",
    "plt.tight_layout()\n",
    "plt.show()"
   ]
  },
  {
   "cell_type": "code",
   "execution_count": 9,
   "id": "90f6593e",
   "metadata": {},
   "outputs": [],
   "source": [
    "min_traffic = df['traffic_volume'].min()\n",
    "max_traffic = df['traffic_volume'].max()\n",
    "\n",
    "traffic_categories = {\n",
    "    'low_volume': (min_traffic, q1),\n",
    "    'medium_volume': (q1, q2),\n",
    "    'high_volume': (q2, q3),\n",
    "    'very_high_volume': (q3, max_traffic + 1)\n",
    "}\n",
    "\n",
    "def categorize_traffic_volume(volume):\n",
    "    volume = int(volume)\n",
    "    for category, (lower, upper) in traffic_categories.items():\n",
    "        if lower <= volume < upper:\n",
    "            return category\n",
    "        \n",
    "df['traffic_volume_category'] = df['traffic_volume'].apply(categorize_traffic_volume)"
   ]
  },
  {
   "cell_type": "code",
   "execution_count": 10,
   "id": "378cd481",
   "metadata": {},
   "outputs": [],
   "source": [
    "df.to_csv('data/metro_interstate_traffic_volume_processed.csv', index=False)"
   ]
  },
  {
   "cell_type": "markdown",
   "id": "e5703771",
   "metadata": {},
   "source": [
    "<br><br>\n",
    "\n",
    "## 7. Main code as possible solution to the problem [1,5 valor] "
   ]
  },
  {
   "cell_type": "markdown",
   "id": "f50334fb",
   "metadata": {},
   "source": [
    "### Split the dataset\n",
    "We start by splitting the dataset into training and testing sets. We use the first 80% of the dataset to calculate the transition matrix and the emission matrix, and the remaining 20% to evaluate the model."
   ]
  },
  {
   "cell_type": "code",
   "execution_count": 11,
   "id": "e478f844",
   "metadata": {},
   "outputs": [],
   "source": [
    "X = df.drop(columns=['traffic_volume', 'traffic_volume_category'])\n",
    "y = df['traffic_volume_category']\n",
    "\n",
    "X_train, X_test, y_train, y_test = train_test_split(X, y, test_size=0.2, shuffle=False)"
   ]
  },
  {
   "cell_type": "markdown",
   "id": "e443ea4b",
   "metadata": {},
   "source": [
    "### Generate the set of possible observations"
   ]
  },
  {
   "cell_type": "markdown",
   "id": "f0f17574",
   "metadata": {},
   "source": [
    "To obtain the set of possible observations, we generate all possible combinations of the features `weekend`, `time_of_day`, `weather`, and `temperature`. We then map these combinations to integers as the `hmmlearn` library only accepts integers as observations.\n",
    "\n",
    "After some testing, we found that the model performs better without the `temperature` feature. Therefore, we decided to remove it from the set of possible observations."
   ]
  },
  {
   "cell_type": "code",
   "execution_count": 12,
   "id": "8db374d1",
   "metadata": {},
   "outputs": [
    {
     "name": "stdout",
     "output_type": "stream",
     "text": [
      "Example of observations:\n",
      "weekday_morning_clouds\n",
      "weekday_morning_clear\n",
      "weekday_morning_rain\n",
      "weekday_morning_other\n",
      "weekday_morning_mist\n",
      "weekday_morning_snow\n",
      "weekday_afternoon_clouds\n",
      "weekday_afternoon_clear\n",
      "weekday_afternoon_rain\n",
      "weekday_afternoon_other\n",
      "\n",
      "Total number of observations: 48\n"
     ]
    }
   ],
   "source": [
    "day_of_week_categories = ['weekday', 'weekend']\n",
    "time_of_day_categories = df['time_of_day'].unique()\n",
    "weather_categories = df['weather'].unique()\n",
    "temp_categories = df['temp'].unique()\n",
    "traffic_categories = df['traffic_volume_category'].unique()\n",
    "\n",
    "observations = list(product(day_of_week_categories, time_of_day_categories, weather_categories))\n",
    "observations = ['_'.join(obs) for obs in observations]\n",
    "\n",
    "print(\"Example of observations:\")\n",
    "for obs in observations[:10]:\n",
    "    print(obs)\n",
    "print(\"\\nTotal number of observations:\", len(observations))"
   ]
  },
  {
   "cell_type": "markdown",
   "id": "a6fb7608",
   "metadata": {},
   "source": [
    "### Mapping the observations and traffic states to integers"
   ]
  },
  {
   "cell_type": "code",
   "execution_count": 13,
   "id": "af89b4d0",
   "metadata": {},
   "outputs": [],
   "source": [
    "observations_map = {\n",
    "    obs: i for i, obs in enumerate(observations)\n",
    "}\n",
    "\n",
    "state_map = {\n",
    "    state: i for i, state in enumerate(traffic_categories)\n",
    "}\n",
    "\n",
    "\n",
    "def get_observation(row):\n",
    "    weekday = 'weekend' if row['weekend'] == 1 else 'weekday'\n",
    "    obs = f\"{weekday}_{row['time_of_day']}_{row['weather']}\"\n",
    "    return observations_map[obs]\n",
    "\n",
    "def get_sequence(data):\n",
    "    return data.apply(get_observation, axis=1).values.reshape(-1, 1)"
   ]
  },
  {
   "cell_type": "markdown",
   "id": "592b1643",
   "metadata": {},
   "source": [
    "### Transition and emission probabilities"
   ]
  },
  {
   "cell_type": "markdown",
   "id": "2f76f2d2",
   "metadata": {},
   "source": [
    "As already mentioned, as we already know the traffic volume category for each instance, we took this as advantage to model the system. We used the train subsection of the dataset to calculate the transition matrix and the emission matrix. Additionally, we also calculated the initial state distribution."
   ]
  },
  {
   "cell_type": "code",
   "execution_count": 14,
   "id": "e936627c",
   "metadata": {},
   "outputs": [],
   "source": [
    "def transition_matrix(n_states, states_sequence):\n",
    "    transition_counts = np.zeros((n_states, n_states))\n",
    "    for (i, j) in zip(states_sequence[:-1], states_sequence[1:]):\n",
    "        transition_counts[i, j] += 1\n",
    "\n",
    "    transition_probs = transition_counts / transition_counts.sum(axis=1, keepdims=True)\n",
    "    return transition_probs\n",
    "\n",
    "\n",
    "def emission_matrix(n_states, n_observations, states_sequence, observations_sequence):\n",
    "    emission_counts = np.zeros((n_states, n_observations))\n",
    "    for state, obs in zip(states_sequence, observations_sequence):\n",
    "        emission_counts[state, obs] += 1\n",
    "\n",
    "    emission_probs = emission_counts / emission_counts.sum(axis=1, keepdims=True)\n",
    "    return emission_probs\n",
    "\n",
    "\n",
    "def start_probs(n_states, states_sequence):\n",
    "    start_counts = Counter(states_sequence)\n",
    "    start_probs = np.array([start_counts[state] for state in range(n_states)])\n",
    "    start_probs = start_probs / start_probs.sum()\n",
    "    return start_probs"
   ]
  },
  {
   "cell_type": "code",
   "execution_count": 15,
   "id": "52a5f397",
   "metadata": {},
   "outputs": [],
   "source": [
    "n_states = len(traffic_categories)\n",
    "n_observations = len(observations)\n",
    "\n",
    "states_sequence = y_train.map(state_map).values\n",
    "observations_sequence = get_sequence(X_train)\n",
    "\n",
    "# Transition matrix\n",
    "transition_probs = transition_matrix(n_states, states_sequence)\n",
    "\n",
    "# Emission matrix\n",
    "emission_probs = emission_matrix(n_states, n_observations, states_sequence, observations_sequence)\n",
    "\n",
    "# Start probability\n",
    "start_probs = start_probs(n_states, states_sequence)"
   ]
  },
  {
   "cell_type": "code",
   "execution_count": 16,
   "id": "7aab0886",
   "metadata": {},
   "outputs": [
    {
     "name": "stdout",
     "output_type": "stream",
     "text": [
      "Transition matrix:\n",
      "0.78 0.21 0.01 0.00 \n",
      "0.12 0.71 0.16 0.00 \n",
      "0.09 0.07 0.68 0.15 \n",
      "0.01 0.00 0.14 0.84 \n",
      "\n",
      "Emission matrix:\n",
      "0.13 0.11 0.05 0.05 0.08 0.02 0.23 0.13 0.07 0.05 0.03 0.02 0.01 0.00 0.00 0.00 0.00 0.00 0.00 0.00 0.00 0.00 0.00 0.00 0.00 0.00 0.00 0.00 0.00 0.00 0.01 0.01 0.00 0.00 0.00 0.00 0.00 0.00 0.00 0.00 0.00 0.00 0.00 0.00 0.00 0.00 0.00 0.00 \n",
      "0.09 0.06 0.03 0.03 0.04 0.02 0.06 0.03 0.02 0.02 0.01 0.02 0.07 0.05 0.02 0.02 0.01 0.01 0.00 0.00 0.00 0.00 0.00 0.00 0.03 0.03 0.01 0.01 0.01 0.00 0.10 0.06 0.03 0.02 0.02 0.01 0.03 0.02 0.01 0.01 0.00 0.00 0.00 0.00 0.00 0.00 0.00 0.00 \n",
      "0.01 0.00 0.00 0.00 0.00 0.00 0.01 0.00 0.00 0.00 0.00 0.00 0.16 0.14 0.06 0.04 0.04 0.03 0.03 0.03 0.01 0.01 0.02 0.01 0.04 0.04 0.01 0.02 0.02 0.01 0.00 0.00 0.00 0.00 0.00 0.00 0.06 0.06 0.02 0.02 0.02 0.01 0.01 0.01 0.00 0.00 0.00 0.00 \n",
      "0.00 0.00 0.00 0.00 0.00 0.00 0.00 0.00 0.00 0.00 0.00 0.00 0.01 0.02 0.01 0.01 0.01 0.00 0.16 0.18 0.07 0.07 0.10 0.04 0.01 0.01 0.01 0.01 0.01 0.00 0.00 0.00 0.00 0.00 0.00 0.00 0.01 0.01 0.00 0.00 0.00 0.00 0.06 0.09 0.03 0.03 0.04 0.01 \n",
      "\n",
      "Start probability:\n",
      "0.25 0.25 0.25 0.25 \n"
     ]
    }
   ],
   "source": [
    "print(\"Transition matrix:\")\n",
    "for row in transition_probs:\n",
    "    for prob in row:\n",
    "        print(f\"{prob:.2f}\", end=' ')\n",
    "    print()\n",
    "    \n",
    "print(\"\\nEmission matrix:\")\n",
    "for row in emission_probs:\n",
    "    for prob in row:\n",
    "        print(f\"{prob:.2f}\", end=' ')\n",
    "    print()\n",
    "\n",
    "print(\"\\nStart probability:\")\n",
    "for prob in start_probs:\n",
    "    print(f\"{prob:.2f}\", end=' ')\n",
    "print()"
   ]
  },
  {
   "cell_type": "markdown",
   "id": "7b3a6037",
   "metadata": {},
   "source": [
    "### Create HMM model\n",
    "\n",
    "Given the transition matrix, the emission matrix, and the initial state distribution, we created the Hidden Markov Model using the `CategoricalHMM` class from the `hmmlearn` library."
   ]
  },
  {
   "cell_type": "code",
   "execution_count": 17,
   "id": "a9ae1fcd",
   "metadata": {},
   "outputs": [],
   "source": [
    "model = hmm.CategoricalHMM(n_components=n_states)\n",
    "model.startprob_ = start_probs\n",
    "model.transmat_ = transition_probs\n",
    "model.emissionprob_ = emission_probs"
   ]
  },
  {
   "cell_type": "markdown",
   "id": "87a15554",
   "metadata": {},
   "source": [
    "<br><br>\n",
    "\n",
    "## 8. Analysis of Example 1 [3,0 valor]"
   ]
  },
  {
   "cell_type": "markdown",
   "id": "a0f7810c",
   "metadata": {},
   "source": [
    "<br><br>\n",
    "\n",
    "## 9. Analysis of Example 2 [3,0 valor]"
   ]
  },
  {
   "cell_type": "markdown",
   "id": "1e821172",
   "metadata": {},
   "source": [
    "<br><br>\n",
    "## 10. Pros and cons of the approach [2,0 valor]"
   ]
  },
  {
   "cell_type": "markdown",
   "id": "60974d68",
   "metadata": {},
   "source": [
    "<br><br>\n",
    "## 11. Future improvements [2,0 valor]"
   ]
  },
  {
   "cell_type": "markdown",
   "id": "04b1eb04",
   "metadata": {},
   "source": [
    "<br>\n",
    "<div style=\"text-align: center;\">\n",
    "    <br><br>\n",
    "    <p style=\"font-size: 40px;\">References [1,0 valor]</p>\n",
    "</div>\n",
    "<br>\n"
   ]
  }
 ],
 "metadata": {
  "kernelspec": {
   "display_name": "main",
   "language": "python",
   "name": "python3"
  },
  "language_info": {
   "codemirror_mode": {
    "name": "ipython",
    "version": 3
   },
   "file_extension": ".py",
   "mimetype": "text/x-python",
   "name": "python",
   "nbconvert_exporter": "python",
   "pygments_lexer": "ipython3",
   "version": "3.12.2"
  }
 },
 "nbformat": 4,
 "nbformat_minor": 5
}
